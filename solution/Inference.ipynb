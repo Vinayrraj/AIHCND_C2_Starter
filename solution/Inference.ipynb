{
 "cells": [
  {
   "cell_type": "code",
   "execution_count": 1,
   "metadata": {},
   "outputs": [
    {
     "name": "stderr",
     "output_type": "stream",
     "text": [
      "Using TensorFlow backend.\n"
     ]
    }
   ],
   "source": [
    "import numpy as np\n",
    "import pandas as pd\n",
    "import pydicom\n",
    "%matplotlib inline\n",
    "import matplotlib.pyplot as plt\n",
    "import keras \n",
    "\n",
    "from keras.models import model_from_json\n",
    "from skimage.transform import resize\n",
    "from keras.models import model_from_json"
   ]
  },
  {
   "cell_type": "code",
   "execution_count": 2,
   "metadata": {},
   "outputs": [],
   "source": [
    "# This function reads in a .dcm file, checks the important fields for our device, and returns a numpy array\n",
    "# of just the imaging data\n",
    "def check_dicom(filename): \n",
    "    # todo\n",
    "    \n",
    "    print('Load file {} ...'.format(filename))\n",
    "    ds = pydicom.dcmread(filename)       \n",
    "#     print(ds)\n",
    "    print(\"Id\", ds.PatientID)\n",
    "#     print(\"Modality\", ds.Modality)\n",
    "    print(\"Study Description\", ds.StudyDescription)\n",
    "#     print(\"Patient's Sex\", ds.PatientSex)\n",
    "#     print(\"Patient's Age\", ds.PatientAge)\n",
    "#     print(\"Body Part Examined\", ds.BodyPartExamined)\n",
    "#     print(\"Patient Position\", ds.PatientPosition)\n",
    "#     print(\"Photometric Interpretation\", ds.PhotometricInterpretation)\n",
    "    \n",
    "    # filtering: check DICOM header for image position, image type and body part\n",
    "    # Body Part\n",
    "    \n",
    "    # Patient Position\n",
    "    position = ds.PatientPosition\n",
    "    if position not in ['PA', 'AP']:\n",
    "        print('Image rejected: {}, PatientPosition: {}'.format(filename, position))\n",
    "        return None\n",
    "    \n",
    "    # Modali\n",
    "    mod = ds.Modality\n",
    "    if mod != 'DX':\n",
    "        print('Image rejected: {}, Modality: {}'.format(filename, mod))\n",
    "        return None\n",
    "    \n",
    "    body_part = ds.BodyPartExamined\n",
    "    if body_part not in ['CHEST', 'chest']:\n",
    "        print('Image rejected: {}, Body part: {}'.format(filename, body_part))\n",
    "        return None\n",
    "    \n",
    "    img = ds.pixel_array\n",
    "    return img\n",
    "    \n",
    "    \n",
    "# This function takes the numpy array output by check_dicom and \n",
    "# runs the appropriate pre-processing needed for our model input\n",
    "def preprocess_image(img,img_mean,img_std,img_size): \n",
    "    # todo\n",
    "    proc_img = img.copy()\n",
    "    proc_img = resize(img, img_size)\n",
    "    proc_img  = proc_img / 255\n",
    "    return proc_img\n",
    "\n",
    "# This function loads in our trained model w/ weights and compiles it \n",
    "def load_model(model_path, weight_path):\n",
    "    # todo\n",
    "    json_file = open(model_path, 'r')\n",
    "    model_json = json_file.read()\n",
    "    json_file.close()\n",
    "    model = model_from_json(model_json)\n",
    "    model.load_weights(weight_path)\n",
    "    print(\"Model loaded\", model)\n",
    "    return model\n",
    "\n",
    "# This function uses our device's threshold parameters to predict whether or not\n",
    "# the image shows the presence of pneumonia using our trained model\n",
    "def predict_image(model, img, thresh): \n",
    "    # todo    \n",
    "    pred = model.predict(img, batch_size = 1, verbose = True)\n",
    "    \n",
    "    if pred[0][0] > thresh:\n",
    "        prediction = 'Pneumonia present, {}'.format(pred[0][0])\n",
    "    else:\n",
    "        prediction = 'Pneumonia not present, {}'.format(pred[0][0])\n",
    "\n",
    "    return prediction "
   ]
  },
  {
   "cell_type": "code",
   "execution_count": 3,
   "metadata": {},
   "outputs": [
    {
     "name": "stdout",
     "output_type": "stream",
     "text": [
      "Load file test1.dcm ...\n",
      "Id 2\n",
      "Study Description No Finding\n",
      "Load file test2.dcm ...\n",
      "Id 1\n",
      "Study Description Cardiomegaly\n",
      "Load file test3.dcm ...\n",
      "Id 61\n",
      "Study Description Effusion\n",
      "Load file test4.dcm ...\n",
      "Id 2\n",
      "Study Description No Finding\n",
      "Image rejected: test4.dcm, Body part: RIBCAGE\n",
      "Load file test5.dcm ...\n",
      "Id 2\n",
      "Study Description No Finding\n",
      "Image rejected: test5.dcm, Modality: CT\n",
      "Load file test6.dcm ...\n",
      "Id 2\n",
      "Study Description No Finding\n",
      "Image rejected: test6.dcm, PatientPosition: XX\n"
     ]
    }
   ],
   "source": [
    "check_dicom(\"test1.dcm\")\n",
    "check_dicom(\"test2.dcm\")\n",
    "check_dicom(\"test3.dcm\")\n",
    "check_dicom(\"test4.dcm\")\n",
    "check_dicom(\"test5.dcm\")\n",
    "check_dicom(\"test6.dcm\")"
   ]
  },
  {
   "cell_type": "code",
   "execution_count": null,
   "metadata": {},
   "outputs": [],
   "source": []
  },
  {
   "cell_type": "code",
   "execution_count": 4,
   "metadata": {},
   "outputs": [
    {
     "name": "stdout",
     "output_type": "stream",
     "text": [
      "Model loaded <keras.engine.sequential.Sequential object at 0x7f24642908d0>\n",
      "Load file test1.dcm ...\n",
      "Id 2\n",
      "Study Description No Finding\n",
      "1/1 [==============================] - 1s 847ms/step\n",
      "Pneumonia present, 0.5363113284111023\n",
      "Load file test2.dcm ...\n",
      "Id 1\n",
      "Study Description Cardiomegaly\n",
      "1/1 [==============================] - 1s 570ms/step\n",
      "Pneumonia present, 0.5365277528762817\n",
      "Load file test3.dcm ...\n",
      "Id 61\n",
      "Study Description Effusion\n",
      "1/1 [==============================] - 1s 548ms/step\n",
      "Pneumonia present, 0.5363778471946716\n",
      "Load file test4.dcm ...\n",
      "Id 2\n",
      "Study Description No Finding\n",
      "Image rejected: test4.dcm, Body part: RIBCAGE\n",
      "Load file test5.dcm ...\n",
      "Id 2\n",
      "Study Description No Finding\n",
      "Image rejected: test5.dcm, Modality: CT\n",
      "Load file test6.dcm ...\n",
      "Id 2\n",
      "Study Description No Finding\n",
      "Image rejected: test6.dcm, PatientPosition: XX\n"
     ]
    }
   ],
   "source": [
    "test_dicoms = ['test1.dcm','test2.dcm','test3.dcm','test4.dcm','test5.dcm','test6.dcm']\n",
    "\n",
    "model_path = \"my_model.json\"\n",
    "weight_path = \"xray_class_my_model.best.hdf5\"\n",
    "\n",
    "IMG_SIZE=(1,224,224,3) # This might be different if you did not use vgg16\n",
    "img_mean = 0# loads the mean image value they used during training preprocessing\n",
    "img_std = 0# loads the std dev image value they used during training preprocessing\n",
    "\n",
    "my_model = load_model(model_path, weight_path) #loads model\n",
    "thresh = 0.47 #loads the threshold they chose for model classification \n",
    "\n",
    "# use the .dcm files to test your prediction\n",
    "for i in test_dicoms:\n",
    "    \n",
    "    img = np.array([])\n",
    "    img  = check_dicom(i)\n",
    "    \n",
    "    if img is None:\n",
    "        continue\n",
    "    img_proc = preprocess_image(img,img_mean,img_std,IMG_SIZE)\n",
    "    pred = predict_image(my_model,img_proc,thresh)\n",
    "    print(pred)"
   ]
  },
  {
   "cell_type": "code",
   "execution_count": null,
   "metadata": {},
   "outputs": [],
   "source": []
  }
 ],
 "metadata": {
  "kernelspec": {
   "display_name": "Python 3",
   "language": "python",
   "name": "python3"
  },
  "language_info": {
   "codemirror_mode": {
    "name": "ipython",
    "version": 3
   },
   "file_extension": ".py",
   "mimetype": "text/x-python",
   "name": "python",
   "nbconvert_exporter": "python",
   "pygments_lexer": "ipython3",
   "version": "3.7.6"
  }
 },
 "nbformat": 4,
 "nbformat_minor": 2
}
